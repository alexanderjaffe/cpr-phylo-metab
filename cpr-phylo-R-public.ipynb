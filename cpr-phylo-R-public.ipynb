{
 "cells": [
  {
   "cell_type": "code",
   "execution_count": null,
   "metadata": {},
   "outputs": [],
   "source": [
    "library(\"phangorn\")\n",
    "library(\"castor\")\n",
    "library(\"ape\")"
   ]
  },
  {
   "cell_type": "code",
   "execution_count": null,
   "metadata": {},
   "outputs": [],
   "source": [
    "# N.B. FILL THIS IN WITH PATH\n",
    "# TO GITHUB REPO\n",
    "rootdir = \"\""
   ]
  },
  {
   "cell_type": "markdown",
   "metadata": {},
   "source": [
    "# calculate trait depth + homoplasy"
   ]
  },
  {
   "cell_type": "markdown",
   "metadata": {},
   "source": [
    "Define trees and trait table to analyze, then run consentrait + CI. <b>N.B.</b> takes a few minutes to run."
   ]
  },
  {
   "cell_type": "code",
   "execution_count": null,
   "metadata": {},
   "outputs": [],
   "source": [
    "trees = c(paste(rootdir,\"/trees/bac175_outgroup/rp16_concat.BAC175.final.pruned.treefile\", sep=\"\"))\n",
    "\n",
    "trait_table = paste(rootdir, \"/metabolism/trait_analysis/trait_table.csv\",sep=\"\")"
   ]
  },
  {
   "cell_type": "code",
   "execution_count": null,
   "metadata": {},
   "outputs": [],
   "source": [
    "all_results = c()\n",
    "cresults = c()\n",
    "\n",
    "for (tree in trees){\n",
    "  \n",
    "  # get basename\n",
    "  treename = unlist(strsplit(basename(tree), \"_\"))[1]\n",
    "  # read in and reroot tree\n",
    "  treefile = read.tree(file = tree)\n",
    "  # remove problem bac175 taxon\n",
    "  treefile = drop.tip(treefile, \"None_CG1_02_FULL_CPR_43_390_curated\")\n",
    "  outgroup = treefile$tip.label[(grepl(\"BAC175\", treefile$tip.label)==TRUE)]\n",
    "  rooted = root(treefile, as.vector(outgroup))\n",
    "  \n",
    "  # read in trait information\n",
    "  trait = read.csv(trait_table, header=T)\n",
    "  traits = colnames(trait[, !(names(trait) %in% c(\"X\", \"newname\"))])\n",
    "  # subset and reorder to match tree\n",
    "  trait_sub = subset(trait, newname %in% rooted$tip.label)\n",
    "  trait_ordered = trait_sub[match(rooted$tip.label, trait_sub$newname),]\n",
    "  \n",
    "  # now run consentrait for each trait\n",
    "  for (t in traits){\n",
    "    \n",
    "    # over a range of min_frac thresholds\n",
    "    #for (min_frac in seq(0.65, 0.9, by=0.05)){\n",
    "    for (min_frac in c(0.75,0.80, 0.85,0.90)){\n",
    "      temp = c()\n",
    "      # run consentrait\n",
    "      results = get_trait_depth(rooted, as.numeric(unlist(trait_ordered[t])), Npermutations = 1000, count_singletons = F, min_fraction = min_frac)\n",
    "      # extract positive clade depths\n",
    "      for (clade in results$positive_clades){\n",
    "        temp = rbind(temp, c(treename, t, min_frac, results$P, clade, results$mean_depth_per_clade[clade]))}\n",
    "      # add to global results\n",
    "      all_results = rbind(all_results, temp)   \n",
    "    }\n",
    "  }\n",
    "  \n",
    "  trait = read.csv(trait_table, header=T)\n",
    "  traits = colnames(trait[, !(names(trait) %in% c(\"X\", \"newname\"))])\n",
    "  # subset and reorder to match tree\n",
    "  trait_sub = subset(trait, newname %in% rooted$tip.label)\n",
    "  trait_ordered = trait_sub[match(rooted$tip.label, trait_sub$newname),]   # run CI for all traits - remove NAs to avoid error\n",
    "  trait_ordered = na.omit(trait_ordered)\n",
    "  rownames(trait_ordered) = trait_ordered$newname\n",
    "  trait_final = trait_ordered[,!(names(trait_ordered) %in% c(\"X\",\"newname\"))]\n",
    "  ttrait = t(trait_final)\n",
    "  \n",
    "  # read in as phyDat object\n",
    "  trait_data = phyDat(data.frame(ttrait), type=\"USER\", levels=c(\"0\",\"1\"))\n",
    "  # remove odd missing taxa that we don't find in the trait table\n",
    "  rooted.pruned = drop.tip(rooted, rooted$tip.label[-match(colnames(ttrait), rooted$tip.label)])\n",
    "  # change tree tip names - phyDat replaces - with . - must match\n",
    "  temp <-sapply(rooted.pruned$tip.label, function(x) gsub(\"-\", \".\", x))\n",
    "  rooted.pruned$tip.label = as.vector(temp)\n",
    "  #execute\n",
    "  cir = CI(rooted.pruned, trait_data, sitewise = T)\n",
    "  # add metadata\n",
    "  cirs = cbind(rownames(ttrait), cir, as.vector(rowSums(ttrait)), replicate(length(cir), treename))\n",
    "  cresults = rbind(cresults, cirs)\n",
    "  \n",
    "}"
   ]
  },
  {
   "cell_type": "code",
   "execution_count": null,
   "metadata": {},
   "outputs": [],
   "source": [
    "# read in and format all results\n",
    "all_df = data.frame(all_results)\n",
    "rownames(all_df) = 1:(nrow(all_df))\n",
    "colnames(all_df) = c(\"tree\", \"trait\", \"min_fraction\", \"pval\", \"clade\", \"mean_depth\")\n",
    "#write out\n",
    "write.csv(all_df, file=paste(rootdir,\"/metabolism/trait_analysis/bac175_consentrait_results.csv\",sep=\"\"), row.names=F)\n",
    "\n",
    "cdf = data.frame(cresults)\n",
    "rownames(cdf) = 1:(nrow(cdf))\n",
    "colnames(cdf) = c(\"trait\", \"ci\", \"family_size\",\"tree\")\n",
    "write.csv(cdf, file=paste(rootdir,\"/metabolism/trait_analysis/bac175_ci_results.csv\",sep=\"\"), row.names=F)"
   ]
  }
 ],
 "metadata": {
  "kernelspec": {
   "display_name": "R",
   "language": "R",
   "name": "ir"
  },
  "language_info": {
   "codemirror_mode": "r",
   "file_extension": ".r",
   "mimetype": "text/x-r-source",
   "name": "R",
   "pygments_lexer": "r",
   "version": "3.5.3"
  }
 },
 "nbformat": 4,
 "nbformat_minor": 2
}
