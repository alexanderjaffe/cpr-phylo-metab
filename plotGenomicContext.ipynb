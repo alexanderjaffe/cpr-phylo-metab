{
 "cells": [
  {
   "cell_type": "code",
   "execution_count": null,
   "metadata": {},
   "outputs": [],
   "source": [
    "import matplotlib, re, os, glob\n",
    "import matplotlib.pyplot as plt\n",
    "import numpy as np\n",
    "import pandas as pd\n",
    "from Bio import SeqIO\n",
    "import seaborn as sns\n",
    "import subprocess as sp\n",
    "sns.set('notebook')\n",
    "%matplotlib inline "
   ]
  },
  {
   "cell_type": "markdown",
   "metadata": {},
   "source": [
    "N.B. if this draws errors, check all packages installed via `pip`."
   ]
  },
  {
   "cell_type": "markdown",
   "metadata": {},
   "source": [
    "### set up data, paths, functions"
   ]
  },
  {
   "cell_type": "code",
   "execution_count": null,
   "metadata": {},
   "outputs": [],
   "source": [
    "# path to concatenated protein file\n",
    "# must be in prodigal format - (\\S+) # ([0-9]+) # ([0-9]+) # ([1-]+) .+\"\n",
    "ppath = \"FILL_THIS_IN\"\n",
    "# path to foci file - list of gene names of interest\n",
    "# separated by \\n\n",
    "fpath = \"FILL_THIS_IN\"\n",
    "# output directory\n",
    "outdir = \"FILL_THIS_IN\"\n",
    "# path to protein clustering programs\n",
    "pcpath = \"/groups/banfield/users/meheurap/proteinClusteringPipeline/scripts/\"\n",
    "# path to pullseq\n",
    "pspath = \"/shared/software/bin/pullseq\""
   ]
  },
  {
   "cell_type": "code",
   "execution_count": null,
   "metadata": {},
   "outputs": [],
   "source": [
    "def cmdir(path):\n",
    "    \n",
    "    if not os.path.isdir(path):\n",
    "        os.mkdir(path)"
   ]
  },
  {
   "cell_type": "code",
   "execution_count": null,
   "metadata": {},
   "outputs": [],
   "source": [
    "def scaffold(gene):\n",
    "    if gene != \"None\":\n",
    "        try: return re.search(\"(.+?)_[0-9]+$\", gene).group(1)\n",
    "        except: print(gene)"
   ]
  },
  {
   "cell_type": "markdown",
   "metadata": {},
   "source": [
    "### compute genomic context table"
   ]
  },
  {
   "cell_type": "code",
   "execution_count": null,
   "metadata": {},
   "outputs": [],
   "source": [
    "# build contig db for all proteins\n",
    "contig_db = {}\n",
    "\n",
    "for record in SeqIO.parse(open(ppath), \"fasta\"):\n",
    "\n",
    "    m = re.search(\"(\\S+) # ([0-9]+) # ([0-9]+) # ([1-]+) .+\", record.description)\n",
    "    scaf = scaffold(m.group(1))\n",
    "    if scaf not in contig_db:\n",
    "        contig_db[scaf] = [m.group(1)]\n",
    "    else:\n",
    "        contig_db[scaf].append(m.group(1))"
   ]
  },
  {
   "cell_type": "code",
   "execution_count": null,
   "metadata": {},
   "outputs": [],
   "source": [
    "# retrieve strandedness information\n",
    "strand_dict = {}\n",
    "\n",
    "for record in SeqIO.parse(open(ppath,\"r\"), \"fasta\"):\n",
    "    gene_name = record.description.split(\"#\")[0]\n",
    "    strand = record.description.split(\"#\")[3]\n",
    "    strand_dict[gene_name.strip()] = strand.strip()"
   ]
  },
  {
   "cell_type": "code",
   "execution_count": null,
   "metadata": {},
   "outputs": [],
   "source": [
    "# define search radius (# ORFs)\n",
    "radius = \"FILL_THIS_IN\""
   ]
  },
  {
   "cell_type": "code",
   "execution_count": null,
   "metadata": {},
   "outputs": [],
   "source": [
    "# define list of focal genes\n",
    "foci = [line.strip() for line in open(fpath).readlines()]\n",
    "\n",
    "neighbors = {}\n",
    "for focus in foci:\n",
    "    if scaffold(focus) in contig_db:\n",
    "        # get genes assc with contig\n",
    "        gene_array = contig_db[scaffold(focus)]\n",
    "        # define span, considering contig ends\n",
    "        upper_bound = min(len(gene_array)-1, gene_array.index(focus) + radius)\n",
    "        lower_bound = max(0, gene_array.index(focus) - radius)\n",
    "        # save results for downstream analysis\n",
    "        for i in range(lower_bound, upper_bound+1):\n",
    "            # don't include focus\n",
    "            if i != gene_array.index(focus):\n",
    "                neighbors[gene_array[i]] = {\"position\": i-gene_array.index(focus), \"focus\":focus}\n",
    "\n",
    "# create genomic context table with above results\n",
    "neighbor_df = pd.DataFrame.from_dict(neighbors, orient=\"index\")\n",
    "neighbor_df = neighbor_df.reset_index()\n",
    "neighbor_df.columns = [\"gene\", \"position\", \"focus\"]"
   ]
  },
  {
   "cell_type": "code",
   "execution_count": null,
   "metadata": {},
   "outputs": [],
   "source": [
    "#adjust position by strand orientation\n",
    "neighbor_df[\"gene_strand\"] = neighbor_df[\"gene\"].apply(lambda x: strand_dict[x])\n",
    "neighbor_df[\"focus_strand\"] = neighbor_df[\"focus\"].apply(lambda x: strand_dict[x])\n",
    "neighbor_df[\"adj_position\"] = neighbor_df.apply(lambda x: int(x[\"position\"])*int(x[\"gene_strand\"]), axis=1)\n",
    "neighbor_df.head()"
   ]
  },
  {
   "cell_type": "markdown",
   "metadata": {},
   "source": [
    "### run clustering pipeline on proximal proteins"
   ]
  },
  {
   "cell_type": "markdown",
   "metadata": {},
   "source": [
    "For each of the following steps, the python code will construct a \n",
    "bash command that can be copy+pasted into your terminal session to be executed."
   ]
  },
  {
   "cell_type": "code",
   "execution_count": null,
   "metadata": {},
   "outputs": [],
   "source": [
    "# write fasta subset for protein clustering\n",
    "cmdir(outdir + \"/protein_clustering/\")\n",
    "\n",
    "with open(outdir + \"/protein_clustering/neighbors.txt\", \"w\") as outfile:\n",
    "    \n",
    "    for key, row in neighbor_df.iterrows():\n",
    "        outfile.write(row[\"gene\"] + \"\\n\")\n",
    "\n",
    "call = pspath + \" -n \" + outdir + \"/protein_clustering/neighbors.txt -i \" + \\\n",
    "        ppath + \" > \" + outdir + \"/protein_clustering/neighbors.faa\"\n",
    "#sp.call(call, shell=True)\n",
    "print(call)"
   ]
  },
  {
   "cell_type": "code",
   "execution_count": null,
   "metadata": {},
   "outputs": [],
   "source": [
    "# start by subfamily clustering\n",
    "call = pcpath + \"/subfamilies.py --output-directory \" + \\\n",
    "    outdir + \"/protein_clustering/output/ --cpu 16 \" + \\\n",
    "    outdir + \"/protein_clustering/neighbors.faa\"\n",
    "#sp.call(call, shell=True)\n",
    "print(call)"
   ]
  },
  {
   "cell_type": "code",
   "execution_count": null,
   "metadata": {},
   "outputs": [],
   "source": [
    "# then do hmm-hmm comparison to generate families\n",
    "call1 = pcpath + \"/hhblits.py --cpu 16 \" + outdir + \"/protein_clustering/output/config.json\"\n",
    "print(call1)\n",
    "#sp.call(call1, shell=True)\n",
    "#N.B see program docs for info on --coverage parameter\n",
    "call2 = pcpath + \"/runningMclClustering.py --coverage 0.50 --fasta --cpu 16 \" + outdir + \"/protein_clustering/output/config.json\"\n",
    "#sp.call(call2, shell=True)\n",
    "print(call2)"
   ]
  },
  {
   "cell_type": "markdown",
   "metadata": {},
   "source": [
    "### integrate and plot"
   ]
  },
  {
   "cell_type": "code",
   "execution_count": null,
   "metadata": {},
   "outputs": [],
   "source": [
    "# integrate with family stuff (see miscellaneous)\n",
    "fams = {}\n",
    "\n",
    "count = 1\n",
    "for line in open(outdir + \"/protein_clustering/output/orf2family.tsv\").readlines():\n",
    "    # skip headers\n",
    "    if count != 1:\n",
    "        splt = line.strip().split(\"\\t\")\n",
    "        fams[splt[0]] = splt[1]\n",
    "    count +=1\n",
    "\n",
    "# map subfams to neighbors\n",
    "neighbor_df[\"fam\"] = neighbor_df[\"gene\"].apply(lambda x: fams[x] if x in fams else \"None\")\n",
    "# add metadata about your foci here, if you want to facet by clade, organism, etc\n",
    "neighbor_df[\"type\"] = \"foci_set_1\""
   ]
  },
  {
   "cell_type": "code",
   "execution_count": null,
   "metadata": {},
   "outputs": [],
   "source": [
    "# how many families to display? eg, 20, 15\n",
    "families_to_display = \"FILL_THIS_IN\""
   ]
  },
  {
   "cell_type": "code",
   "execution_count": null,
   "metadata": {},
   "outputs": [],
   "source": [
    "# define subset and groupby\n",
    "for item in neighbor_df[\"type\"].unique():\n",
    "    \n",
    "    # first line - subsets table to match type and stipulates same strand\n",
    "    # if agnostic to strand orientation, remove second part of conditional\n",
    "    phy_df = neighbor_df[(neighbor_df[\"type\"]==phy)  & (neighbor_df[\"gene_strand\"]==neighbor_df[\"focus_strand\"])]\n",
    "    # subset most common families to reduce plotting complexity\n",
    "    top_families = list(phy_df[\"fam\"].value_counts()[0:(families_to_display+1)].index)\n",
    "    top_families = [top for top in top_families if top !=\"None\"]\n",
    "    \n",
    "    # subsets table to selected families\n",
    "    ng = phy_df[(phy_df[\"fam\"].isin(top_families))].groupby([\"fam\", \"adj_position\"], as_index=False).count()\n",
    "    ng = ng[[\"fam\", \"adj_position\", \"focus\"]]\n",
    "    ng.columns = [\"fam\", \"adj_position\", \"count\"]\n",
    "    # restrict radius\n",
    "    ng = ng[abs(ng[\"adj_position\"])<=radius]\n",
    "    \n",
    "    # finally, plot\n",
    "    sns.set(font_scale=1)\n",
    "    sns.set_style(\"white\", {\"axes.edgecolor\": \"0.8\"})\n",
    "    kws = dict(linewidth=.5, edgecolor=\"black\")\n",
    "    g = sns.relplot(\"adj_position\", \"fam\", data=ng, size=\"count\", hue=\"fam\", \n",
    "        alpha=1, aspect=2, sizes=(50,500), **kws, legend=\"brief\")\n",
    "    # add matrix lines\n",
    "    for i in range(-radius,max((radius+1),(families_to_display+1)),1):\n",
    "        if i >= 0 and i < (families_to_display):\n",
    "            plt.axhline(i, color='grey', linestyle='-', lw=0.5,zorder=0)\n",
    "        if i==0:\n",
    "            plt.axvline(i, color='black', linestyle='-', lw=2,zorder=1)\n",
    "        if i <= radius:\n",
    "            plt.axvline(i, color='grey', linestyle='-', lw=0.5,zorder=0)\n",
    "    g.set(xticks=[i for i in range(-radius,(radius+1),2)])\n",
    "    plt.ylabel(\"\")\n",
    "    plt.xlabel(\"relative gene position\")\n",
    "    sns.despine(left=False, bottom=True, top=True, right=False)\n",
    "    plt.show()"
   ]
  }
 ],
 "metadata": {
  "kernelspec": {
   "display_name": "Python 3",
   "language": "python",
   "name": "python3"
  },
  "language_info": {
   "codemirror_mode": {
    "name": "ipython",
    "version": 3
   },
   "file_extension": ".py",
   "mimetype": "text/x-python",
   "name": "python",
   "nbconvert_exporter": "python",
   "pygments_lexer": "ipython3",
   "version": "3.8.2"
  }
 },
 "nbformat": 4,
 "nbformat_minor": 4
}
